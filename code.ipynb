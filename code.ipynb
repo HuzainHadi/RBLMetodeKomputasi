{
  "cells": [
    {
      "cell_type": "code",
      "execution_count": 1,
      "metadata": {
        "id": "Rv8SJmkwNl7w"
      },
      "outputs": [],
      "source": [
        "import numpy as np\n",
        "import matplotlib.pyplot as plt\n",
        "from scipy.optimize import curve_fit\n",
        "from scipy.integrate import simps, trapz"
      ]
    },
    {
      "cell_type": "markdown",
      "source": [
        "![image.png](data:image/png;base64,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)"
      ],
      "metadata": {
        "id": "JTY2SQkC9xnf"
      }
    },
    {
      "cell_type": "code",
      "source": [
        "def v(t, theta):\n",
        "    \"\"\"\n",
        "    Parameters:\n",
        "    t (float or np.ndarray): Time variable.\n",
        "    theta (float): Phase angle in radians.\n",
        "    \"\"\"\n",
        "    sqrt_11 = np.sqrt(11)\n",
        "    term1 = np.cos(3 * sqrt_11 * t - theta)\n",
        "    term2 = 3 * sqrt_11 * np.sin(3 * sqrt_11 * t - theta)\n",
        "    return -np.exp(-t) * (term1 + term2)\n",
        "\n",
        "def x(t, theta):\n",
        "    \"\"\"\n",
        "    Parameters:\n",
        "    t (float or np.ndarray): Time variable.\n",
        "    theta (float): Phase angle in radians.\n",
        "    \"\"\"\n",
        "    return np.exp(-t) * np.cos(3 * np.sqrt(11) * t - theta)\n"
      ],
      "metadata": {
        "id": "Ifg-TM_DFO3b"
      },
      "execution_count": 2,
      "outputs": []
    },
    {
      "cell_type": "code",
      "source": [
        "def bisection_method(f, a, b, tol, theta):\n",
        "    \"\"\"\n",
        "    Finds a root of f(t, theta) = 0 using the bisection method.\n",
        "\n",
        "    Parameters:\n",
        "    f (function): The function for which the root is to be found.\n",
        "    a (float): Lower bound of the interval.\n",
        "    b (float): Upper bound of the interval.\n",
        "    tol (float): Tolerance for the solution.\n",
        "    theta (float): Phase angle in radians.\n",
        "\n",
        "    Returns:\n",
        "    float: The estimated time where f(t, theta) = 0.\n",
        "    \"\"\"\n",
        "    if f(a, theta) * f(b, theta) >= 0:\n",
        "        raise ValueError(\"Function does not change sign in the interval [a, b].\")\n",
        "\n",
        "    while (b - a) / 2 > tol:\n",
        "        c = (a + b) / 2\n",
        "        if f(c, theta) == 0 or (b - a) / 2 < tol:\n",
        "            return c\n",
        "        elif f(a, theta) * f(c, theta) < 0:\n",
        "            b = c\n",
        "        else:\n",
        "            a = c\n",
        "\n",
        "    return (a + b) / 2"
      ],
      "metadata": {
        "id": "sYj9ixXN0RHe"
      },
      "execution_count": 3,
      "outputs": []
    },
    {
      "cell_type": "code",
      "source": [
        "def optimization(f, t_values, h=1e-5):\n",
        "    \"\"\"\n",
        "    Numerically calculates the derivative of function f using finite differences.\n",
        "\n",
        "    Parameters:\n",
        "    f (function): The function whose derivative is to be calculated.\n",
        "    t_values (np.ndarray): Array of time values at which the derivative is calculated.\n",
        "    h (float): Step size for the finite difference approximation.\n",
        "\n",
        "    Returns:\n",
        "    np.ndarray: Array of derivative values at t_values.\n",
        "    \"\"\"\n",
        "    return (f(t_values + h, theta) - f(t_values - h, theta)) / (2 * h)"
      ],
      "metadata": {
        "id": "Wpx55PSv2wAA"
      },
      "execution_count": 4,
      "outputs": []
    },
    {
      "cell_type": "code",
      "source": [
        "# Define parameters\n",
        "theta = np.pi  # Example phase angle\n",
        "tolerance = 1e-5\n",
        "\n",
        "t1_1 = 0.1\n",
        "t1_2 = 0.3\n",
        "t2_1 = 0.6\n",
        "t2_2 = 0.9\n",
        "\n",
        "# Find the first zero crossing in the interval [0, 1]\n",
        "t1 = bisection_method(x, t1_1, t1_2, tolerance, theta)\n",
        "\n",
        "# Find the second zero crossing in the interval [1, 2]\n",
        "t2 = bisection_method(x, t2_1, t2_2, tolerance, theta)\n",
        "\n",
        "# Calculate the wavelength as the time difference between two zero crossings\n",
        "wavelength = t2 - t1\n",
        "\n",
        "print(f\"---Finding Estimated Period Using Bisection Method---\")\n",
        "print()\n",
        "\n",
        "print(f\"First zero crossing in the interval [{t1_1} s, {t1_2} s]\")\n",
        "print(f\"Second zero crossing in the interval [{t2_1} s, {t2_2} s]\")\n",
        "print()\n",
        "\n",
        "print(f\"First zero crossing at t1: {t1:.5f} s\")\n",
        "print(f\"Second zero crossing at t2: {t2:.5f} s\")\n",
        "print(f\"Estimated Period: {wavelength:.5f} s\")"
      ],
      "metadata": {
        "colab": {
          "base_uri": "https://localhost:8080/"
        },
        "id": "aJiQPVcc0BQD",
        "outputId": "7a6cde40-6b02-4f44-dcaf-528a53400929"
      },
      "execution_count": 5,
      "outputs": [
        {
          "output_type": "stream",
          "name": "stdout",
          "text": [
            "---Finding Estimated Period Using Bisection Method---\n",
            "\n",
            "First zero crossing in the interval [0.1 s, 0.3 s]\n",
            "Second zero crossing in the interval [0.6 s, 0.9 s]\n",
            "\n",
            "First zero crossing at t1: 0.15787 s\n",
            "Second zero crossing at t2: 0.78936 s\n",
            "Estimated Period: 0.63149 s\n"
          ]
        }
      ]
    },
    {
      "cell_type": "code",
      "source": [
        "def simpsons_rule(f, a, b, n, theta):\n",
        "    \"\"\"\n",
        "    Approximates the integral of f(t, theta) from a to b using Simpson's Rule with n subintervals.\n",
        "\n",
        "    Parameters:\n",
        "    f (function): The function to integrate.\n",
        "    a (float): The lower limit of integration.\n",
        "    b (float): The upper limit of integration.\n",
        "    n (int): Number of subintervals (must be even).\n",
        "    theta (float): Phase angle in radians.\n",
        "\n",
        "    Returns:\n",
        "    float: Approximate value of the integral.\n",
        "    \"\"\"\n",
        "    if n % 2 == 1:\n",
        "        raise ValueError(\"Number of subintervals must be even.\")\n",
        "\n",
        "    h = (b - a) / n\n",
        "    x = np.linspace(a, b, n+1)\n",
        "    y = f(x, theta)\n",
        "\n",
        "    integral = y[0] + y[-1] + 4 * np.sum(y[1:-1:2]) + 2 * np.sum(y[2:-2:2])\n",
        "    return (h / 3) * integral\n",
        "\n",
        "# Example parameters\n",
        "a = 0        # Start time\n",
        "b = 5        # End time\n",
        "n = 20       # Number of subintervals (must be even)\n",
        "theta = np.pi    # Example phase angle\n",
        "\n",
        "# Compute the integral of v(t) from a to b\n",
        "distance_traveled = simpsons_rule(v, a, b, n, theta)\n",
        "\n",
        "print(f\"Approximate distance traveled: {distance_traveled:.5f}\")"
      ],
      "metadata": {
        "colab": {
          "base_uri": "https://localhost:8080/"
        },
        "id": "2x00HvXYWTku",
        "outputId": "eb2420da-b323-4c2c-f7ce-3480ecdce1dd"
      },
      "execution_count": 6,
      "outputs": [
        {
          "output_type": "stream",
          "name": "stdout",
          "text": [
            "Approximate distance traveled: 1.43849\n"
          ]
        }
      ]
    },
    {
      "cell_type": "code",
      "source": [
        "def trapezoidal_rule(f, a, b, n, theta):\n",
        "    \"\"\"\n",
        "    Approximates the integral of f(t, theta) from a to b using the trapezoidal rule with n subintervals.\n",
        "\n",
        "    Parameters:\n",
        "    f (function): The function to integrate.\n",
        "    a (float): The lower limit of integration.\n",
        "    b (float): The upper limit of integration.\n",
        "    n (int): Number of subintervals.\n",
        "    theta (float): Phase angle in radians.\n",
        "\n",
        "    Returns:\n",
        "    float: Approximate value of the integral.\n",
        "    \"\"\"\n",
        "    h = (b - a) / n\n",
        "    t_values = np.linspace(a, b, n+1)\n",
        "    y_values = f(t_values, theta)\n",
        "\n",
        "    integral = (h / 2) * (y_values[0] + 2 * np.sum(y_values[1:-1]) + y_values[-1])\n",
        "    return integral\n",
        "\n",
        "# Example parameters\n",
        "a = 0       # Start time\n",
        "b = 5       # End time\n",
        "n = 20      # Number of subintervals\n",
        "theta = np.pi   # Example phase angle\n",
        "\n",
        "# Compute the integral of v(t) from a to b\n",
        "distance_traveled = trapezoidal_rule(v, a, b, n, theta)\n",
        "\n",
        "print(f\"Approximate distance traveled: {distance_traveled:.5f}\")"
      ],
      "metadata": {
        "id": "5BzWsEcoI102",
        "outputId": "5e7f7c99-431c-44df-ec5e-304ebccb207f",
        "colab": {
          "base_uri": "https://localhost:8080/"
        }
      },
      "execution_count": 7,
      "outputs": [
        {
          "output_type": "stream",
          "name": "stdout",
          "text": [
            "Approximate distance traveled: 0.42987\n"
          ]
        }
      ]
    },
    {
      "cell_type": "code",
      "source": [
        "def numerical_differentiation(f, t_values, h, theta):\n",
        "    \"\"\"\n",
        "    Computes the numerical derivative of a function f(t) using the central difference method.\n",
        "\n",
        "    Parameters:\n",
        "    f (function): The function to differentiate.\n",
        "    t_values (array): Array of time values at which to compute the derivative.\n",
        "    h (float): Time step for finite differences.\n",
        "    theta (float): Phase angle in radians.\n",
        "\n",
        "    Returns:\n",
        "    array: Approximate derivative (acceleration) at each time point.\n",
        "    \"\"\"\n",
        "    a_values = np.zeros_like(t_values)\n",
        "    for i in range(1, len(t_values) - 1):\n",
        "        a_values[i] = (f(t_values[i+1], theta) - f(t_values[i-1], theta)) / (2 * h)\n",
        "\n",
        "    return a_values\n",
        "\n",
        "# Parameters\n",
        "theta = np.pi / 4  # Phase angle\n",
        "t_start = 0        # Start time\n",
        "t_end = 2          # End time\n",
        "n_points = 100     # Number of time points\n",
        "h = (t_end - t_start) / (n_points - 1)  # Time step\n",
        "\n",
        "# Time values\n",
        "t_values = np.linspace(t_start, t_end, n_points)\n",
        "\n",
        "# Compute acceleration using numerical differentiation\n",
        "acceleration_values = numerical_differentiation(v, t_values, h, theta)\n",
        "\n",
        "# Print results\n",
        "for t, a in zip(t_values, acceleration_values):\n",
        "    print(f\"t = {t:.2f}, acceleration = {a:.5f}\")"
      ],
      "metadata": {
        "colab": {
          "base_uri": "https://localhost:8080/"
        },
        "id": "i5mMKCMPz2kY",
        "outputId": "a8149c19-8abb-4504-df03-ad0c148d68fe"
      },
      "execution_count": 8,
      "outputs": [
        {
          "output_type": "stream",
          "name": "stdout",
          "text": [
            "t = 0.00, acceleration = 0.00000\n",
            "t = 0.02, acceleration = -90.20700\n",
            "t = 0.04, acceleration = -93.78376\n",
            "t = 0.06, acceleration = -93.48040\n",
            "t = 0.08, acceleration = -89.46266\n",
            "t = 0.10, acceleration = -82.03778\n",
            "t = 0.12, acceleration = -71.63666\n",
            "t = 0.14, acceleration = -58.79178\n",
            "t = 0.16, acceleration = -44.11192\n",
            "t = 0.18, acceleration = -28.25495\n",
            "t = 0.20, acceleration = -11.89957\n",
            "t = 0.22, acceleration = 4.28251\n",
            "t = 0.24, acceleration = 19.65309\n",
            "t = 0.26, acceleration = 33.63159\n",
            "t = 0.28, acceleration = 45.71591\n",
            "t = 0.30, acceleration = 55.49933\n",
            "t = 0.32, acceleration = 62.68299\n",
            "t = 0.34, acceleration = 67.08347\n",
            "t = 0.36, acceleration = 68.63555\n",
            "t = 0.38, acceleration = 67.39017\n",
            "t = 0.40, acceleration = 63.50774\n",
            "t = 0.42, acceleration = 57.24745\n",
            "t = 0.44, acceleration = 48.95302\n",
            "t = 0.46, acceleration = 39.03563\n",
            "t = 0.48, acceleration = 27.95488\n",
            "t = 0.51, acceleration = 16.19856\n",
            "t = 0.53, acceleration = 4.26205\n",
            "t = 0.55, acceleration = -7.37168\n",
            "t = 0.57, acceleration = -18.25088\n",
            "t = 0.59, acceleration = -27.97175\n",
            "t = 0.61, acceleration = -36.19264\n",
            "t = 0.63, acceleration = -42.64527\n",
            "t = 0.65, acceleration = -47.14241\n",
            "t = 0.67, acceleration = -49.58225\n",
            "t = 0.69, acceleration = -49.94898\n",
            "t = 0.71, acceleration = -48.31008\n",
            "t = 0.73, acceleration = -44.81031\n",
            "t = 0.75, acceleration = -39.66286\n",
            "t = 0.77, acceleration = -33.13816\n",
            "t = 0.79, acceleration = -25.55086\n",
            "t = 0.81, acceleration = -17.24547\n",
            "t = 0.83, acceleration = -8.58151\n",
            "t = 0.85, acceleration = 0.08145\n",
            "t = 0.87, acceleration = 8.39812\n",
            "t = 0.89, acceleration = 16.05069\n",
            "t = 0.91, acceleration = 22.76040\n",
            "t = 0.93, acceleration = 28.29712\n",
            "t = 0.95, acceleration = 32.48660\n",
            "t = 0.97, acceleration = 35.21516\n",
            "t = 0.99, acceleration = 36.43191\n",
            "t = 1.01, acceleration = 36.14819\n",
            "t = 1.03, acceleration = 34.43474\n",
            "t = 1.05, acceleration = 31.41648\n",
            "t = 1.07, acceleration = 27.26538\n",
            "t = 1.09, acceleration = 22.19179\n",
            "t = 1.11, acceleration = 16.43448\n",
            "t = 1.13, acceleration = 10.25002\n",
            "t = 1.15, acceleration = 3.90187\n",
            "t = 1.17, acceleration = -2.35045\n",
            "t = 1.19, acceleration = -8.26148\n",
            "t = 1.21, acceleration = -13.60912\n",
            "t = 1.23, acceleration = -18.20251\n",
            "t = 1.25, acceleration = -21.88839\n",
            "t = 1.27, acceleration = -24.55579\n",
            "t = 1.29, acceleration = -26.13870\n",
            "t = 1.31, acceleration = -26.61697\n",
            "t = 1.33, acceleration = -26.01527\n",
            "t = 1.35, acceleration = -24.40035\n",
            "t = 1.37, acceleration = -21.87672\n",
            "t = 1.39, acceleration = -18.58095\n",
            "t = 1.41, acceleration = -14.67500\n",
            "t = 1.43, acceleration = -10.33873\n",
            "t = 1.45, acceleration = -5.76205\n",
            "t = 1.47, acceleration = -1.13690\n",
            "t = 1.49, acceleration = 3.35042\n",
            "t = 1.52, acceleration = 7.52649\n",
            "t = 1.54, acceleration = 11.23716\n",
            "t = 1.56, acceleration = 14.35295\n",
            "t = 1.58, acceleration = 16.77322\n",
            "t = 1.60, acceleration = 18.42901\n",
            "t = 1.62, acceleration = 19.28461\n",
            "t = 1.64, acceleration = 19.33758\n",
            "t = 1.66, acceleration = 18.61761\n",
            "t = 1.68, acceleration = 17.18400\n",
            "t = 1.70, acceleration = 15.12215\n",
            "t = 1.72, acceleration = 12.53914\n",
            "t = 1.74, acceleration = 9.55857\n",
            "t = 1.76, acceleration = 6.31499\n",
            "t = 1.78, acceleration = 2.94812\n",
            "t = 1.80, acceleration = -0.40295\n",
            "t = 1.82, acceleration = -3.60525\n",
            "t = 1.84, acceleration = -6.53704\n",
            "t = 1.86, acceleration = -9.09214\n",
            "t = 1.88, acceleration = -11.18363\n",
            "t = 1.90, acceleration = -12.74648\n",
            "t = 1.92, acceleration = -13.73934\n",
            "t = 1.94, acceleration = -14.14519\n",
            "t = 1.96, acceleration = -13.97111\n",
            "t = 1.98, acceleration = -13.24699\n",
            "t = 2.00, acceleration = 0.00000\n"
          ]
        }
      ]
    },
    {
      "cell_type": "code",
      "source": [
        "# Define parameters\n",
        "theta = np.pi        # Example phase angle\n",
        "t0 = 0.1             # Initial time\n",
        "t_end = 0.5          # Final time\n",
        "h = 0.1              # Time step size\n",
        "\n",
        "# Generate time values\n",
        "t_values = np.arange(t0, t_end, h)\n",
        "\n",
        "# Compute x(t) values\n",
        "x_values = x(t_values, theta)\n",
        "\n",
        "# Compute numerical derivative to get v(t) (velocity)\n",
        "v_values = optimization(x, t_values)\n",
        "\n",
        "# Find the index of the maximum displacement (amplitude)\n",
        "max_displacement_idx = np.argmax(np.abs(x_values))\n",
        "\n",
        "# Find the corresponding amplitude value\n",
        "amplitude = np.abs(x_values[max_displacement_idx])\n",
        "\n",
        "print(f\"---Finding Amplitude Using Optimization Numerical Method---\")\n",
        "print()\n",
        "\n",
        "# Print results\n",
        "print(f\"Initial time: {t0} s\")\n",
        "print(f\"Final time: {t_end} s\")\n",
        "print()\n",
        "print(f\"Amplitude of the wave: {amplitude:.5f} m\")"
      ],
      "metadata": {
        "colab": {
          "base_uri": "https://localhost:8080/"
        },
        "id": "SiF3YmNKWhlH",
        "outputId": "c3f15b0c-3dcb-4def-b1c4-955795f6b2a5"
      },
      "execution_count": 9,
      "outputs": [
        {
          "output_type": "stream",
          "name": "stdout",
          "text": [
            "---Finding Amplitude Using Optimization Numerical Method---\n",
            "\n",
            "Initial time: 0.1 s\n",
            "Final time: 0.5 s\n",
            "\n",
            "Amplitude of the wave: 0.73175 m\n"
          ]
        }
      ]
    }
  ],
  "metadata": {
    "kernelspec": {
      "display_name": "Python 3",
      "language": "python",
      "name": "python3"
    },
    "language_info": {
      "codemirror_mode": {
        "name": "ipython",
        "version": 3
      },
      "file_extension": ".py",
      "mimetype": "text/x-python",
      "name": "python",
      "nbconvert_exporter": "python",
      "pygments_lexer": "ipython3",
      "version": "3.12.1"
    },
    "colab": {
      "provenance": []
    }
  },
  "nbformat": 4,
  "nbformat_minor": 0
}
